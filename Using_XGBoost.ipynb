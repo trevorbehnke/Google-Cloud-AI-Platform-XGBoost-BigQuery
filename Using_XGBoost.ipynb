{
  "nbformat": 4,
  "nbformat_minor": 0,
  "metadata": {
    "colab": {
      "name": "Using XGBoost.ipynb",
      "provenance": [],
      "collapsed_sections": [],
      "authorship_tag": "ABX9TyP7kBkrc+Ut9ElK8+4ZX/1T",
      "include_colab_link": true
    },
    "kernelspec": {
      "name": "python3",
      "display_name": "Python 3"
    },
    "accelerator": "GPU"
  },
  "cells": [
    {
      "cell_type": "markdown",
      "metadata": {
        "id": "view-in-github",
        "colab_type": "text"
      },
      "source": [
        "<a href=\"https://colab.research.google.com/github/trevorbehnke/Google-Cloud-AI-Platform-XGBoost-BigQuery/blob/master/Using_XGBoost.ipynb\" target=\"_parent\"><img src=\"https://colab.research.google.com/assets/colab-badge.svg\" alt=\"Open In Colab\"/></a>"
      ]
    },
    {
      "cell_type": "markdown",
      "metadata": {
        "id": "TVuUyRzDV0iY",
        "colab_type": "text"
      },
      "source": [
        "Make sure XGBoost is installed\n",
        "\n",
        "\n"
      ]
    },
    {
      "cell_type": "code",
      "metadata": {
        "id": "Dj7KJcbDBIqB",
        "colab_type": "code",
        "outputId": "df6222cc-2651-4e34-99c7-b255b371507b",
        "colab": {
          "base_uri": "https://localhost:8080/",
          "height": 68
        }
      },
      "source": [
        "!pip3 install xgboost"
      ],
      "execution_count": 0,
      "outputs": [
        {
          "output_type": "stream",
          "text": [
            "Requirement already satisfied: xgboost in /usr/local/lib/python3.6/dist-packages (0.90)\n",
            "Requirement already satisfied: scipy in /usr/local/lib/python3.6/dist-packages (from xgboost) (1.4.1)\n",
            "Requirement already satisfied: numpy in /usr/local/lib/python3.6/dist-packages (from xgboost) (1.17.5)\n"
          ],
          "name": "stdout"
        }
      ]
    },
    {
      "cell_type": "markdown",
      "metadata": {
        "id": "JR0x3plGaSni",
        "colab_type": "text"
      },
      "source": [
        "Import Packages"
      ]
    },
    {
      "cell_type": "code",
      "metadata": {
        "id": "rA-LLMuvBQKV",
        "colab_type": "code",
        "colab": {}
      },
      "source": [
        "import pandas as pd\n",
        "import xgboost as xgb\n",
        "import numpy as np\n",
        "\n",
        "from sklearn.model_selection import train_test_split\n",
        "from sklearn.utils import shuffle\n",
        "from google.cloud import bigquery"
      ],
      "execution_count": 0,
      "outputs": []
    },
    {
      "cell_type": "markdown",
      "metadata": {
        "id": "qkidNrsZWotY",
        "colab_type": "text"
      },
      "source": [
        "Add Google Cloud project"
      ]
    },
    {
      "cell_type": "code",
      "metadata": {
        "id": "4VJ2yCiiCMrd",
        "colab_type": "code",
        "outputId": "1b51582b-2b69-4f5f-8bc3-d634abcfb7a9",
        "colab": {
          "base_uri": "https://localhost:8080/",
          "height": 34
        }
      },
      "source": [
        "!gcloud config set project mlxgboost"
      ],
      "execution_count": 0,
      "outputs": [
        {
          "output_type": "stream",
          "text": [
            "Updated property [core/project].\n"
          ],
          "name": "stdout"
        }
      ]
    },
    {
      "cell_type": "markdown",
      "metadata": {
        "id": "cAaZbtwHW1db",
        "colab_type": "text"
      },
      "source": [
        "Authenticate Account"
      ]
    },
    {
      "cell_type": "code",
      "metadata": {
        "id": "ipKdOx5TCgh1",
        "colab_type": "code",
        "outputId": "84dcd265-48dd-497a-b1dc-9faa8bdb192d",
        "colab": {
          "base_uri": "https://localhost:8080/",
          "height": 207
        }
      },
      "source": [
        "!gcloud auth login"
      ],
      "execution_count": 0,
      "outputs": [
        {
          "output_type": "stream",
          "text": [
            "Go to the following link in your browser:\n",
            "\n",
            "    https://accounts.google.com/o/oauth2/auth?code_challenge=nFtCcPlLPvHAoJqQKVjYm4UqYqtVxNoTNiUgR2VoXeg&prompt=select_account&code_challenge_method=S256&access_type=offline&redirect_uri=urn%3Aietf%3Awg%3Aoauth%3A2.0%3Aoob&response_type=code&client_id=32555940559.apps.googleusercontent.com&scope=openid+https%3A%2F%2Fwww.googleapis.com%2Fauth%2Fuserinfo.email+https%3A%2F%2Fwww.googleapis.com%2Fauth%2Fcloud-platform+https%3A%2F%2Fwww.googleapis.com%2Fauth%2Fappengine.admin+https%3A%2F%2Fwww.googleapis.com%2Fauth%2Fcompute+https%3A%2F%2Fwww.googleapis.com%2Fauth%2Faccounts.reauth\n",
            "\n",
            "\n",
            "Enter verification code: 4/xgEDpnD4-sAZ61icXokBiTTkoijisO1D0IB1ZnqW_BrLJ-DWnt1gkM0\n",
            "\n",
            "You are now logged in as [me@trevorbehnke.com].\n",
            "Your current project is [mlxgboost].  You can change this setting by running:\n",
            "  $ gcloud config set project PROJECT_ID\n"
          ],
          "name": "stdout"
        }
      ]
    },
    {
      "cell_type": "markdown",
      "metadata": {
        "id": "riDI6ROZXLFM",
        "colab_type": "text"
      },
      "source": [
        "Create Service Account"
      ]
    },
    {
      "cell_type": "code",
      "metadata": {
        "id": "fcxyfltzCdHZ",
        "colab_type": "code",
        "colab": {}
      },
      "source": [
        "!gcloud iam service-accounts create mlxgboost"
      ],
      "execution_count": 0,
      "outputs": []
    },
    {
      "cell_type": "markdown",
      "metadata": {
        "id": "FiVql4avXOhi",
        "colab_type": "text"
      },
      "source": [
        "Add IAM Policy to Service Account"
      ]
    },
    {
      "cell_type": "code",
      "metadata": {
        "id": "SpD6lp5DC2q-",
        "colab_type": "code",
        "outputId": "0ba77a9a-84aa-4356-d10d-b9a1556bd3a1",
        "colab": {
          "base_uri": "https://localhost:8080/",
          "height": 323
        }
      },
      "source": [
        "!gcloud projects add-iam-policy-binding mlxgboost --member \"serviceAccount:mlxgboost@mlxgboost.iam.gserviceaccount.com\" --role \"roles/owner\""
      ],
      "execution_count": 0,
      "outputs": [
        {
          "output_type": "stream",
          "text": [
            "Updated IAM policy for project [mlxgboost].\n",
            "bindings:\n",
            "- members:\n",
            "  - serviceAccount:service-454613473835@compute-system.iam.gserviceaccount.com\n",
            "  role: roles/compute.serviceAgent\n",
            "- members:\n",
            "  - serviceAccount:454613473835-compute@developer.gserviceaccount.com\n",
            "  - serviceAccount:454613473835@cloudservices.gserviceaccount.com\n",
            "  role: roles/editor\n",
            "- members:\n",
            "  - serviceAccount:service-454613473835@cloud-ml.google.com.iam.gserviceaccount.com\n",
            "  role: roles/ml.serviceAgent\n",
            "- members:\n",
            "  - serviceAccount:mlxgboost@mlxgboost.iam.gserviceaccount.com\n",
            "  - user:me@trevorbehnke.com\n",
            "  role: roles/owner\n",
            "etag: BwWgX6Kd9mY=\n",
            "version: 1\n"
          ],
          "name": "stdout"
        }
      ]
    },
    {
      "cell_type": "markdown",
      "metadata": {
        "id": "jwLerbEPXoQO",
        "colab_type": "text"
      },
      "source": [
        "Create Service Account Credentials"
      ]
    },
    {
      "cell_type": "code",
      "metadata": {
        "id": "8MF-wOhpDD3W",
        "colab_type": "code",
        "outputId": "cd51d40e-5bb1-4994-f857-90ce2eae55cb",
        "colab": {
          "base_uri": "https://localhost:8080/",
          "height": 54
        }
      },
      "source": [
        "!gcloud iam service-accounts keys create mlxgboost.json --iam-account mlxgboost@mlxgboost.iam.gserviceaccount.com"
      ],
      "execution_count": 0,
      "outputs": [
        {
          "output_type": "stream",
          "text": [
            "created key [3ba674f249de5bf8859f1edd52e8b273b4fa9d33] of type [json] as [mlxgboost.json] for [mlxgboost@mlxgboost.iam.gserviceaccount.com]\n"
          ],
          "name": "stdout"
        }
      ]
    },
    {
      "cell_type": "markdown",
      "metadata": {
        "id": "bUgF7oARXwRC",
        "colab_type": "text"
      },
      "source": [
        "Create Environment Variables for Service Account Credentials"
      ]
    },
    {
      "cell_type": "code",
      "metadata": {
        "id": "SYx4_v0DHEG1",
        "colab_type": "code",
        "colab": {}
      },
      "source": [
        "import os\n",
        "os.environ[\"GOOGLE_APPLICATION_CREDENTIALS\"] = \"/content/mlxgboost.json\""
      ],
      "execution_count": 0,
      "outputs": []
    },
    {
      "cell_type": "markdown",
      "metadata": {
        "id": "BfgXw7CGYHEM",
        "colab_type": "text"
      },
      "source": [
        "Save Service Account Credentials to Local Folder"
      ]
    },
    {
      "cell_type": "code",
      "metadata": {
        "id": "PmKB3J_bGuB7",
        "colab_type": "code",
        "colab": {}
      },
      "source": [
        "!export GOOGLE_APPLICATION_CREDENTIALS=\"/content/mlxgboost.json\""
      ],
      "execution_count": 0,
      "outputs": []
    },
    {
      "cell_type": "markdown",
      "metadata": {
        "id": "a_2FBt-4YJOX",
        "colab_type": "text"
      },
      "source": [
        "Ingest Data using BigQuery"
      ]
    },
    {
      "cell_type": "code",
      "metadata": {
        "id": "k_7gImLkBvy-",
        "colab_type": "code",
        "outputId": "bf6fa190-57be-4216-ebe9-6afcc57e1489",
        "colab": {
          "base_uri": "https://localhost:8080/",
          "height": 204
        }
      },
      "source": [
        "query=\"\"\"\n",
        "SELECT\n",
        "  age,\n",
        "  workclass,\n",
        "  hours_per_week,\n",
        "  race,\n",
        "  sex\n",
        "FROM\n",
        "  bigquery-public-data.ml_datasets.census_adult_income\n",
        "\"\"\"\n",
        "df = bigquery.Client().query(query).to_dataframe()\n",
        "df.head()"
      ],
      "execution_count": 0,
      "outputs": [
        {
          "output_type": "execute_result",
          "data": {
            "text/html": [
              "<div>\n",
              "<style scoped>\n",
              "    .dataframe tbody tr th:only-of-type {\n",
              "        vertical-align: middle;\n",
              "    }\n",
              "\n",
              "    .dataframe tbody tr th {\n",
              "        vertical-align: top;\n",
              "    }\n",
              "\n",
              "    .dataframe thead th {\n",
              "        text-align: right;\n",
              "    }\n",
              "</style>\n",
              "<table border=\"1\" class=\"dataframe\">\n",
              "  <thead>\n",
              "    <tr style=\"text-align: right;\">\n",
              "      <th></th>\n",
              "      <th>age</th>\n",
              "      <th>workclass</th>\n",
              "      <th>hours_per_week</th>\n",
              "      <th>race</th>\n",
              "      <th>sex</th>\n",
              "    </tr>\n",
              "  </thead>\n",
              "  <tbody>\n",
              "    <tr>\n",
              "      <th>0</th>\n",
              "      <td>72</td>\n",
              "      <td>Private</td>\n",
              "      <td>48</td>\n",
              "      <td>Asian-Pac-Islander</td>\n",
              "      <td>Female</td>\n",
              "    </tr>\n",
              "    <tr>\n",
              "      <th>1</th>\n",
              "      <td>70</td>\n",
              "      <td>Private</td>\n",
              "      <td>40</td>\n",
              "      <td>White</td>\n",
              "      <td>Female</td>\n",
              "    </tr>\n",
              "    <tr>\n",
              "      <th>2</th>\n",
              "      <td>77</td>\n",
              "      <td>Private</td>\n",
              "      <td>10</td>\n",
              "      <td>Black</td>\n",
              "      <td>Female</td>\n",
              "    </tr>\n",
              "    <tr>\n",
              "      <th>3</th>\n",
              "      <td>81</td>\n",
              "      <td>Self-emp-inc</td>\n",
              "      <td>28</td>\n",
              "      <td>White</td>\n",
              "      <td>Female</td>\n",
              "    </tr>\n",
              "    <tr>\n",
              "      <th>4</th>\n",
              "      <td>69</td>\n",
              "      <td>Private</td>\n",
              "      <td>40</td>\n",
              "      <td>White</td>\n",
              "      <td>Female</td>\n",
              "    </tr>\n",
              "  </tbody>\n",
              "</table>\n",
              "</div>"
            ],
            "text/plain": [
              "   age      workclass  hours_per_week                 race      sex\n",
              "0   72        Private              48   Asian-Pac-Islander   Female\n",
              "1   70        Private              40                White   Female\n",
              "2   77        Private              10                Black   Female\n",
              "3   81   Self-emp-inc              28                White   Female\n",
              "4   69        Private              40                White   Female"
            ]
          },
          "metadata": {
            "tags": []
          },
          "execution_count": 21
        }
      ]
    },
    {
      "cell_type": "markdown",
      "metadata": {
        "id": "GbVzAYUIYWKB",
        "colab_type": "text"
      },
      "source": [
        "Brief Description of Statistical Data"
      ]
    },
    {
      "cell_type": "code",
      "metadata": {
        "id": "Cn7jfQ4EHoL3",
        "colab_type": "code",
        "outputId": "27b316a2-ef3e-454b-ddf4-d918e7814fb0",
        "colab": {
          "base_uri": "https://localhost:8080/",
          "height": 297
        }
      },
      "source": [
        "df.describe()"
      ],
      "execution_count": 0,
      "outputs": [
        {
          "output_type": "execute_result",
          "data": {
            "text/html": [
              "<div>\n",
              "<style scoped>\n",
              "    .dataframe tbody tr th:only-of-type {\n",
              "        vertical-align: middle;\n",
              "    }\n",
              "\n",
              "    .dataframe tbody tr th {\n",
              "        vertical-align: top;\n",
              "    }\n",
              "\n",
              "    .dataframe thead th {\n",
              "        text-align: right;\n",
              "    }\n",
              "</style>\n",
              "<table border=\"1\" class=\"dataframe\">\n",
              "  <thead>\n",
              "    <tr style=\"text-align: right;\">\n",
              "      <th></th>\n",
              "      <th>age</th>\n",
              "      <th>hours_per_week</th>\n",
              "    </tr>\n",
              "  </thead>\n",
              "  <tbody>\n",
              "    <tr>\n",
              "      <th>count</th>\n",
              "      <td>32561.000000</td>\n",
              "      <td>32561.000000</td>\n",
              "    </tr>\n",
              "    <tr>\n",
              "      <th>mean</th>\n",
              "      <td>38.581647</td>\n",
              "      <td>40.437456</td>\n",
              "    </tr>\n",
              "    <tr>\n",
              "      <th>std</th>\n",
              "      <td>13.640433</td>\n",
              "      <td>12.347429</td>\n",
              "    </tr>\n",
              "    <tr>\n",
              "      <th>min</th>\n",
              "      <td>17.000000</td>\n",
              "      <td>1.000000</td>\n",
              "    </tr>\n",
              "    <tr>\n",
              "      <th>25%</th>\n",
              "      <td>28.000000</td>\n",
              "      <td>40.000000</td>\n",
              "    </tr>\n",
              "    <tr>\n",
              "      <th>50%</th>\n",
              "      <td>37.000000</td>\n",
              "      <td>40.000000</td>\n",
              "    </tr>\n",
              "    <tr>\n",
              "      <th>75%</th>\n",
              "      <td>48.000000</td>\n",
              "      <td>45.000000</td>\n",
              "    </tr>\n",
              "    <tr>\n",
              "      <th>max</th>\n",
              "      <td>90.000000</td>\n",
              "      <td>99.000000</td>\n",
              "    </tr>\n",
              "  </tbody>\n",
              "</table>\n",
              "</div>"
            ],
            "text/plain": [
              "                age  hours_per_week\n",
              "count  32561.000000    32561.000000\n",
              "mean      38.581647       40.437456\n",
              "std       13.640433       12.347429\n",
              "min       17.000000        1.000000\n",
              "25%       28.000000       40.000000\n",
              "50%       37.000000       40.000000\n",
              "75%       48.000000       45.000000\n",
              "max       90.000000       99.000000"
            ]
          },
          "metadata": {
            "tags": []
          },
          "execution_count": 22
        }
      ]
    },
    {
      "cell_type": "markdown",
      "metadata": {
        "id": "o-7yxF3DZar0",
        "colab_type": "text"
      },
      "source": [
        "Drop Rows With Null Values and Shuffle the Data"
      ]
    },
    {
      "cell_type": "code",
      "metadata": {
        "id": "Q_KRNldGH6yR",
        "colab_type": "code",
        "colab": {}
      },
      "source": [
        "df = df.dropna()\n",
        "df = shuffle(df, random_state=2)"
      ],
      "execution_count": 0,
      "outputs": []
    },
    {
      "cell_type": "markdown",
      "metadata": {
        "id": "CTulIdpeZ1nT",
        "colab_type": "text"
      },
      "source": [
        "Extract the Label Column Into a Separate Variable and Create a DataFrame With Only Our Features (AKA What Do I want to Predict?)"
      ]
    },
    {
      "cell_type": "code",
      "metadata": {
        "id": "eW57K6MyH8kg",
        "colab_type": "code",
        "colab": {}
      },
      "source": [
        "labels = df['hours_per_week']\n",
        "data = df.drop(columns=['hours_per_week'])"
      ],
      "execution_count": 0,
      "outputs": []
    },
    {
      "cell_type": "markdown",
      "metadata": {
        "id": "-xUWgOqWaKgO",
        "colab_type": "text"
      },
      "source": [
        "Preview the New Dataset"
      ]
    },
    {
      "cell_type": "code",
      "metadata": {
        "id": "g5BKtZTgIDMG",
        "colab_type": "code",
        "outputId": "87ffa9c1-645e-475e-cd75-f87c71d70b13",
        "colab": {
          "base_uri": "https://localhost:8080/",
          "height": 204
        }
      },
      "source": [
        "data.head()"
      ],
      "execution_count": 0,
      "outputs": [
        {
          "output_type": "execute_result",
          "data": {
            "text/html": [
              "<div>\n",
              "<style scoped>\n",
              "    .dataframe tbody tr th:only-of-type {\n",
              "        vertical-align: middle;\n",
              "    }\n",
              "\n",
              "    .dataframe tbody tr th {\n",
              "        vertical-align: top;\n",
              "    }\n",
              "\n",
              "    .dataframe thead th {\n",
              "        text-align: right;\n",
              "    }\n",
              "</style>\n",
              "<table border=\"1\" class=\"dataframe\">\n",
              "  <thead>\n",
              "    <tr style=\"text-align: right;\">\n",
              "      <th></th>\n",
              "      <th>age</th>\n",
              "      <th>workclass</th>\n",
              "      <th>race</th>\n",
              "      <th>sex</th>\n",
              "    </tr>\n",
              "  </thead>\n",
              "  <tbody>\n",
              "    <tr>\n",
              "      <th>16054</th>\n",
              "      <td>35</td>\n",
              "      <td>Private</td>\n",
              "      <td>White</td>\n",
              "      <td>Female</td>\n",
              "    </tr>\n",
              "    <tr>\n",
              "      <th>32382</th>\n",
              "      <td>64</td>\n",
              "      <td>Private</td>\n",
              "      <td>White</td>\n",
              "      <td>Female</td>\n",
              "    </tr>\n",
              "    <tr>\n",
              "      <th>10749</th>\n",
              "      <td>29</td>\n",
              "      <td>Federal-gov</td>\n",
              "      <td>White</td>\n",
              "      <td>Female</td>\n",
              "    </tr>\n",
              "    <tr>\n",
              "      <th>15377</th>\n",
              "      <td>35</td>\n",
              "      <td>Private</td>\n",
              "      <td>White</td>\n",
              "      <td>Male</td>\n",
              "    </tr>\n",
              "    <tr>\n",
              "      <th>29660</th>\n",
              "      <td>56</td>\n",
              "      <td>Self-emp-not-inc</td>\n",
              "      <td>White</td>\n",
              "      <td>Male</td>\n",
              "    </tr>\n",
              "  </tbody>\n",
              "</table>\n",
              "</div>"
            ],
            "text/plain": [
              "       age          workclass    race      sex\n",
              "16054   35            Private   White   Female\n",
              "32382   64            Private   White   Female\n",
              "10749   29        Federal-gov   White   Female\n",
              "15377   35            Private   White     Male\n",
              "29660   56   Self-emp-not-inc   White     Male"
            ]
          },
          "metadata": {
            "tags": []
          },
          "execution_count": 25
        }
      ]
    },
    {
      "cell_type": "markdown",
      "metadata": {
        "id": "s3kHZjkQf-ud",
        "colab_type": "text"
      },
      "source": [
        "Convert Categorical Values to Binary"
      ]
    },
    {
      "cell_type": "code",
      "metadata": {
        "id": "KgXVfs7V0vr-",
        "colab_type": "code",
        "outputId": "a86fa3da-eb59-4f62-de7a-084f9615878c",
        "colab": {
          "base_uri": "https://localhost:8080/",
          "height": 275
        }
      },
      "source": [
        "dummy = pd.get_dummies(data=data, columns=['workclass', 'race', 'sex'])\n",
        "dummy.head()"
      ],
      "execution_count": 0,
      "outputs": [
        {
          "output_type": "execute_result",
          "data": {
            "text/html": [
              "<div>\n",
              "<style scoped>\n",
              "    .dataframe tbody tr th:only-of-type {\n",
              "        vertical-align: middle;\n",
              "    }\n",
              "\n",
              "    .dataframe tbody tr th {\n",
              "        vertical-align: top;\n",
              "    }\n",
              "\n",
              "    .dataframe thead th {\n",
              "        text-align: right;\n",
              "    }\n",
              "</style>\n",
              "<table border=\"1\" class=\"dataframe\">\n",
              "  <thead>\n",
              "    <tr style=\"text-align: right;\">\n",
              "      <th></th>\n",
              "      <th>age</th>\n",
              "      <th>workclass_ ?</th>\n",
              "      <th>workclass_ Federal-gov</th>\n",
              "      <th>workclass_ Local-gov</th>\n",
              "      <th>workclass_ Never-worked</th>\n",
              "      <th>workclass_ Private</th>\n",
              "      <th>workclass_ Self-emp-inc</th>\n",
              "      <th>workclass_ Self-emp-not-inc</th>\n",
              "      <th>workclass_ State-gov</th>\n",
              "      <th>workclass_ Without-pay</th>\n",
              "      <th>race_ Amer-Indian-Eskimo</th>\n",
              "      <th>race_ Asian-Pac-Islander</th>\n",
              "      <th>race_ Black</th>\n",
              "      <th>race_ Other</th>\n",
              "      <th>race_ White</th>\n",
              "      <th>sex_ Female</th>\n",
              "      <th>sex_ Male</th>\n",
              "    </tr>\n",
              "  </thead>\n",
              "  <tbody>\n",
              "    <tr>\n",
              "      <th>16054</th>\n",
              "      <td>35</td>\n",
              "      <td>0</td>\n",
              "      <td>0</td>\n",
              "      <td>0</td>\n",
              "      <td>0</td>\n",
              "      <td>1</td>\n",
              "      <td>0</td>\n",
              "      <td>0</td>\n",
              "      <td>0</td>\n",
              "      <td>0</td>\n",
              "      <td>0</td>\n",
              "      <td>0</td>\n",
              "      <td>0</td>\n",
              "      <td>0</td>\n",
              "      <td>1</td>\n",
              "      <td>1</td>\n",
              "      <td>0</td>\n",
              "    </tr>\n",
              "    <tr>\n",
              "      <th>32382</th>\n",
              "      <td>64</td>\n",
              "      <td>0</td>\n",
              "      <td>0</td>\n",
              "      <td>0</td>\n",
              "      <td>0</td>\n",
              "      <td>1</td>\n",
              "      <td>0</td>\n",
              "      <td>0</td>\n",
              "      <td>0</td>\n",
              "      <td>0</td>\n",
              "      <td>0</td>\n",
              "      <td>0</td>\n",
              "      <td>0</td>\n",
              "      <td>0</td>\n",
              "      <td>1</td>\n",
              "      <td>1</td>\n",
              "      <td>0</td>\n",
              "    </tr>\n",
              "    <tr>\n",
              "      <th>10749</th>\n",
              "      <td>29</td>\n",
              "      <td>0</td>\n",
              "      <td>1</td>\n",
              "      <td>0</td>\n",
              "      <td>0</td>\n",
              "      <td>0</td>\n",
              "      <td>0</td>\n",
              "      <td>0</td>\n",
              "      <td>0</td>\n",
              "      <td>0</td>\n",
              "      <td>0</td>\n",
              "      <td>0</td>\n",
              "      <td>0</td>\n",
              "      <td>0</td>\n",
              "      <td>1</td>\n",
              "      <td>1</td>\n",
              "      <td>0</td>\n",
              "    </tr>\n",
              "    <tr>\n",
              "      <th>15377</th>\n",
              "      <td>35</td>\n",
              "      <td>0</td>\n",
              "      <td>0</td>\n",
              "      <td>0</td>\n",
              "      <td>0</td>\n",
              "      <td>1</td>\n",
              "      <td>0</td>\n",
              "      <td>0</td>\n",
              "      <td>0</td>\n",
              "      <td>0</td>\n",
              "      <td>0</td>\n",
              "      <td>0</td>\n",
              "      <td>0</td>\n",
              "      <td>0</td>\n",
              "      <td>1</td>\n",
              "      <td>0</td>\n",
              "      <td>1</td>\n",
              "    </tr>\n",
              "    <tr>\n",
              "      <th>29660</th>\n",
              "      <td>56</td>\n",
              "      <td>0</td>\n",
              "      <td>0</td>\n",
              "      <td>0</td>\n",
              "      <td>0</td>\n",
              "      <td>0</td>\n",
              "      <td>0</td>\n",
              "      <td>1</td>\n",
              "      <td>0</td>\n",
              "      <td>0</td>\n",
              "      <td>0</td>\n",
              "      <td>0</td>\n",
              "      <td>0</td>\n",
              "      <td>0</td>\n",
              "      <td>1</td>\n",
              "      <td>0</td>\n",
              "      <td>1</td>\n",
              "    </tr>\n",
              "  </tbody>\n",
              "</table>\n",
              "</div>"
            ],
            "text/plain": [
              "       age  workclass_ ?  ...  sex_ Female  sex_ Male\n",
              "16054   35             0  ...            1          0\n",
              "32382   64             0  ...            1          0\n",
              "10749   29             0  ...            1          0\n",
              "15377   35             0  ...            0          1\n",
              "29660   56             0  ...            0          1\n",
              "\n",
              "[5 rows x 17 columns]"
            ]
          },
          "metadata": {
            "tags": []
          },
          "execution_count": 28
        }
      ]
    },
    {
      "cell_type": "markdown",
      "metadata": {
        "id": "4iKxoX7ca4jX",
        "colab_type": "text"
      },
      "source": [
        "Split Data Into Train and Test Sets Using Scikit Learn *train_test_split*"
      ]
    },
    {
      "cell_type": "code",
      "metadata": {
        "id": "EfgHa8bOIgaM",
        "colab_type": "code",
        "colab": {}
      },
      "source": [
        "x,y = dummy,labels\n",
        "x_train,x_test,y_train,y_test = train_test_split(x,y)"
      ],
      "execution_count": 0,
      "outputs": []
    },
    {
      "cell_type": "markdown",
      "metadata": {
        "id": "tHVYaLdzb1rm",
        "colab_type": "text"
      },
      "source": [
        "Create the Model"
      ]
    },
    {
      "cell_type": "code",
      "metadata": {
        "id": "_oznpuQ2Iiz8",
        "colab_type": "code",
        "colab": {}
      },
      "source": [
        "model = xgb.XGBRegressor(\n",
        "    objective='reg:linear'\n",
        ")"
      ],
      "execution_count": 0,
      "outputs": []
    },
    {
      "cell_type": "markdown",
      "metadata": {
        "id": "0W-7gEWecDHB",
        "colab_type": "text"
      },
      "source": [
        "Train the Model"
      ]
    },
    {
      "cell_type": "code",
      "metadata": {
        "id": "XRgLj9MqIquN",
        "colab_type": "code",
        "outputId": "63ab0fa3-ed44-4ed3-fcd6-46c41dfbd106",
        "colab": {
          "base_uri": "https://localhost:8080/",
          "height": 207
        }
      },
      "source": [
        "model.fit(x_train, y_train)"
      ],
      "execution_count": 0,
      "outputs": [
        {
          "output_type": "stream",
          "text": [
            "/usr/local/lib/python3.6/dist-packages/xgboost/core.py:587: FutureWarning: Series.base is deprecated and will be removed in a future version\n",
            "  if getattr(data, 'base', None) is not None and \\\n"
          ],
          "name": "stderr"
        },
        {
          "output_type": "stream",
          "text": [
            "[20:38:28] WARNING: /workspace/src/objective/regression_obj.cu:152: reg:linear is now deprecated in favor of reg:squarederror.\n"
          ],
          "name": "stdout"
        },
        {
          "output_type": "execute_result",
          "data": {
            "text/plain": [
              "XGBRegressor(base_score=0.5, booster='gbtree', colsample_bylevel=1,\n",
              "             colsample_bynode=1, colsample_bytree=1, gamma=0,\n",
              "             importance_type='gain', learning_rate=0.1, max_delta_step=0,\n",
              "             max_depth=3, min_child_weight=1, missing=None, n_estimators=100,\n",
              "             n_jobs=1, nthread=None, objective='reg:linear', random_state=0,\n",
              "             reg_alpha=0, reg_lambda=1, scale_pos_weight=1, seed=None,\n",
              "             silent=None, subsample=1, verbosity=1)"
            ]
          },
          "metadata": {
            "tags": []
          },
          "execution_count": 31
        }
      ]
    },
    {
      "cell_type": "markdown",
      "metadata": {
        "id": "O4fHDmTfcG6l",
        "colab_type": "text"
      },
      "source": [
        "Generate Predictions On the Test Data"
      ]
    },
    {
      "cell_type": "code",
      "metadata": {
        "id": "Y7_GNNsFItON",
        "colab_type": "code",
        "colab": {}
      },
      "source": [
        "y_pred = model.predict(x_test)"
      ],
      "execution_count": 0,
      "outputs": []
    },
    {
      "cell_type": "markdown",
      "metadata": {
        "id": "-iXE-ohPcOmO",
        "colab_type": "text"
      },
      "source": [
        "View Model Performance on the Test Set"
      ]
    },
    {
      "cell_type": "code",
      "metadata": {
        "id": "vHxRV5lUIzgU",
        "colab_type": "code",
        "outputId": "2b1d88d9-f9d3-4c01-ab9e-7781cfe09a10",
        "colab": {
          "base_uri": "https://localhost:8080/",
          "height": 1000
        }
      },
      "source": [
        "for i in range(20):\n",
        "    print('Predicted Hours Per Week: ', y_pred[i])\n",
        "    print('Actual Hours Per Week: ', y_test.iloc[i])\n",
        "    print()"
      ],
      "execution_count": 0,
      "outputs": [
        {
          "output_type": "stream",
          "text": [
            "Predicted Hours Per Week:  38.34334\n",
            "Actual Hours Per Week:  40\n",
            "\n",
            "Predicted Hours Per Week:  32.38878\n",
            "Actual Hours Per Week:  25\n",
            "\n",
            "Predicted Hours Per Week:  42.821472\n",
            "Actual Hours Per Week:  40\n",
            "\n",
            "Predicted Hours Per Week:  31.183512\n",
            "Actual Hours Per Week:  30\n",
            "\n",
            "Predicted Hours Per Week:  45.024593\n",
            "Actual Hours Per Week:  40\n",
            "\n",
            "Predicted Hours Per Week:  44.731068\n",
            "Actual Hours Per Week:  55\n",
            "\n",
            "Predicted Hours Per Week:  28.690216\n",
            "Actual Hours Per Week:  30\n",
            "\n",
            "Predicted Hours Per Week:  44.464085\n",
            "Actual Hours Per Week:  40\n",
            "\n",
            "Predicted Hours Per Week:  48.645706\n",
            "Actual Hours Per Week:  60\n",
            "\n",
            "Predicted Hours Per Week:  42.83525\n",
            "Actual Hours Per Week:  40\n",
            "\n",
            "Predicted Hours Per Week:  38.334297\n",
            "Actual Hours Per Week:  40\n",
            "\n",
            "Predicted Hours Per Week:  39.351933\n",
            "Actual Hours Per Week:  40\n",
            "\n",
            "Predicted Hours Per Week:  48.90317\n",
            "Actual Hours Per Week:  40\n",
            "\n",
            "Predicted Hours Per Week:  44.884422\n",
            "Actual Hours Per Week:  35\n",
            "\n",
            "Predicted Hours Per Week:  35.457832\n",
            "Actual Hours Per Week:  25\n",
            "\n",
            "Predicted Hours Per Week:  38.374542\n",
            "Actual Hours Per Week:  30\n",
            "\n",
            "Predicted Hours Per Week:  37.10743\n",
            "Actual Hours Per Week:  40\n",
            "\n",
            "Predicted Hours Per Week:  34.94504\n",
            "Actual Hours Per Week:  35\n",
            "\n",
            "Predicted Hours Per Week:  39.51066\n",
            "Actual Hours Per Week:  40\n",
            "\n",
            "Predicted Hours Per Week:  42.83525\n",
            "Actual Hours Per Week:  24\n",
            "\n"
          ],
          "name": "stdout"
        }
      ]
    },
    {
      "cell_type": "markdown",
      "metadata": {
        "id": "TavR5w6qcZlE",
        "colab_type": "text"
      },
      "source": [
        "Save Model to Local Folder"
      ]
    },
    {
      "cell_type": "code",
      "metadata": {
        "id": "MuhHjVuuI7T_",
        "colab_type": "code",
        "colab": {}
      },
      "source": [
        "model.save_model('model.bst')"
      ],
      "execution_count": 0,
      "outputs": []
    },
    {
      "cell_type": "markdown",
      "metadata": {
        "id": "k48j4y79ckRb",
        "colab_type": "text"
      },
      "source": [
        "Define Environment Variables for the Google Cloud Storage Bucket and Model"
      ]
    },
    {
      "cell_type": "code",
      "metadata": {
        "id": "DHL8YBciI-KH",
        "colab_type": "code",
        "colab": {}
      },
      "source": [
        "GCP_PROJECT = 'mlxgboost'\n",
        "MODEL_BUCKET = 'gs://mlxgboost'\n",
        "VERSION_NAME = 'v1'\n",
        "MODEL_NAME = 'hours_per_week'"
      ],
      "execution_count": 0,
      "outputs": []
    },
    {
      "cell_type": "markdown",
      "metadata": {
        "id": "_5Ov6YjQc5UJ",
        "colab_type": "text"
      },
      "source": [
        "Create a Google Cloud Storage Bucket for the Model"
      ]
    },
    {
      "cell_type": "code",
      "metadata": {
        "id": "uZQA5pzzJbv9",
        "colab_type": "code",
        "outputId": "16d7fc0c-dcac-4140-b23a-d5dd12459472",
        "colab": {
          "base_uri": "https://localhost:8080/",
          "height": 51
        }
      },
      "source": [
        "!gsutil mb $MODEL_BUCKET"
      ],
      "execution_count": 0,
      "outputs": [
        {
          "output_type": "stream",
          "text": [
            "Creating gs://mlxgboost/...\n",
            "ServiceException: 409 Bucket mlxgboost already exists.\n"
          ],
          "name": "stdout"
        }
      ]
    },
    {
      "cell_type": "markdown",
      "metadata": {
        "id": "W8lPFkyxc8Ep",
        "colab_type": "text"
      },
      "source": [
        "Copy the Model to the Google Cloud Storage Bucket"
      ]
    },
    {
      "cell_type": "code",
      "metadata": {
        "id": "8-_1TWBfJuee",
        "colab_type": "code",
        "outputId": "a3677b97-9cc2-4c8c-9b4e-7d298ae7982b",
        "colab": {
          "base_uri": "https://localhost:8080/",
          "height": 68
        }
      },
      "source": [
        "!gsutil cp ./model.bst $MODEL_BUCKET"
      ],
      "execution_count": 0,
      "outputs": [
        {
          "output_type": "stream",
          "text": [
            "Copying file://./model.bst [Content-Type=application/octet-stream]...\n",
            "-\n",
            "Operation completed over 1 objects/67.4 KiB.                                     \n"
          ],
          "name": "stdout"
        }
      ]
    },
    {
      "cell_type": "markdown",
      "metadata": {
        "id": "oL4eyaUkdDBF",
        "colab_type": "text"
      },
      "source": [
        "Create the Model on Google Cloud AI Platform"
      ]
    },
    {
      "cell_type": "code",
      "metadata": {
        "id": "flIGV1yfMPqb",
        "colab_type": "code",
        "outputId": "dfa0bdcc-bdc4-4757-88ae-7397b55f111a",
        "colab": {
          "base_uri": "https://localhost:8080/",
          "height": 71
        }
      },
      "source": [
        "!gcloud ai-platform models create $MODEL_NAME"
      ],
      "execution_count": 0,
      "outputs": [
        {
          "output_type": "stream",
          "text": [
            "\u001b[1;33mWARNING:\u001b[0m `--regions` flag will soon be required. Please explicitly specify a region. Using [us-central1] by default.\n",
            "Created ml engine model [projects/mlxgboost/models/hours_per_week].\n"
          ],
          "name": "stdout"
        }
      ]
    },
    {
      "cell_type": "markdown",
      "metadata": {
        "id": "iC2C4yRndMH6",
        "colab_type": "text"
      },
      "source": [
        "Deploy the Model"
      ]
    },
    {
      "cell_type": "code",
      "metadata": {
        "id": "p2HvLKcBMU_y",
        "colab_type": "code",
        "colab": {}
      },
      "source": [
        "!gcloud ai-platform versions create $VERSION_NAME \\\n",
        "--model=$MODEL_NAME \\\n",
        "--framework='XGBOOST' \\\n",
        "--runtime-version=1.15 \\\n",
        "--origin=$MODEL_BUCKET \\\n",
        "--python-version=3.7 \\\n",
        "--project=$GCP_PROJECT"
      ],
      "execution_count": 0,
      "outputs": []
    },
    {
      "cell_type": "markdown",
      "metadata": {
        "id": "jSKzVPfodXqs",
        "colab_type": "text"
      },
      "source": [
        "Test the Deployed Model by Inputing Some Data \n",
        "(In this case: A 29 Year Old White Female Who Works For the Federal Government)"
      ]
    },
    {
      "cell_type": "code",
      "metadata": {
        "id": "7jHmMQdVONQ8",
        "colab_type": "code",
        "outputId": "56b33f6d-0415-4053-8041-5c76ba83409f",
        "colab": {
          "base_uri": "https://localhost:8080/",
          "height": 34
        }
      },
      "source": [
        "%%writefile predictions.json\n",
        "[29, 0,\t1, 0,\t0, 0,\t0, 0,\t0, 0, 0, 0, 0, 0,\t1, 1, 0]"
      ],
      "execution_count": 0,
      "outputs": [
        {
          "output_type": "stream",
          "text": [
            "Writing predictions.json\n"
          ],
          "name": "stdout"
        }
      ]
    },
    {
      "cell_type": "markdown",
      "metadata": {
        "id": "YiVWB2lwdbnw",
        "colab_type": "text"
      },
      "source": [
        "Print Out Your Model Predictions!"
      ]
    },
    {
      "cell_type": "code",
      "metadata": {
        "id": "zJyaaVY6OSW5",
        "colab_type": "code",
        "outputId": "fd1a8d6d-576a-4f64-a114-4b7fed2e3693",
        "colab": {
          "base_uri": "https://localhost:8080/",
          "height": 34
        }
      },
      "source": [
        "prediction = !gcloud ai-platform predict --model=$MODEL_NAME --json-instances=predictions.json --version=$VERSION_NAME\n",
        "print(prediction.s)"
      ],
      "execution_count": 0,
      "outputs": [
        {
          "output_type": "stream",
          "text": [
            "[40.282257080078125]\n"
          ],
          "name": "stdout"
        }
      ]
    }
  ]
}