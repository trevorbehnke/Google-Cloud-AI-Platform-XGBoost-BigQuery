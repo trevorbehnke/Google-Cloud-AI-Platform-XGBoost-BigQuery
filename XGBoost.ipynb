{
  "nbformat": 4,
  "nbformat_minor": 0,
  "metadata": {
    "colab": {
      "name": "XGBoost.ipynb",
      "provenance": [],
      "collapsed_sections": [],
      "toc_visible": true,
      "authorship_tag": "ABX9TyOafT7iAIi42N3DOArwIRlZ",
      "include_colab_link": true
    },
    "kernelspec": {
      "name": "python3",
      "display_name": "Python 3"
    },
    "accelerator": "GPU"
  },
  "cells": [
    {
      "cell_type": "markdown",
      "metadata": {
        "id": "view-in-github",
        "colab_type": "text"
      },
      "source": [
        "<a href=\"https://colab.research.google.com/github/trevorbehnke/Google-Cloud-AI-Platform-XGBoost-BigQuery/blob/master/XGBoost.ipynb\" target=\"_parent\"><img src=\"https://colab.research.google.com/assets/colab-badge.svg\" alt=\"Open In Colab\"/></a>"
      ]
    },
    {
      "cell_type": "markdown",
      "metadata": {
        "id": "TVuUyRzDV0iY",
        "colab_type": "text"
      },
      "source": [
        "Make sure XGBoost is installed\n",
        "\n",
        "\n"
      ]
    },
    {
      "cell_type": "code",
      "metadata": {
        "id": "Dj7KJcbDBIqB",
        "colab_type": "code",
        "colab": {
          "base_uri": "https://localhost:8080/",
          "height": 68
        },
        "outputId": "a00c4104-74d2-4f4c-8a70-5a720e427a86"
      },
      "source": [
        "!pip3 install xgboost"
      ],
      "execution_count": 1,
      "outputs": [
        {
          "output_type": "stream",
          "text": [
            "Requirement already satisfied: xgboost in /usr/local/lib/python3.6/dist-packages (0.90)\n",
            "Requirement already satisfied: scipy in /usr/local/lib/python3.6/dist-packages (from xgboost) (1.4.1)\n",
            "Requirement already satisfied: numpy in /usr/local/lib/python3.6/dist-packages (from xgboost) (1.17.5)\n"
          ],
          "name": "stdout"
        }
      ]
    },
    {
      "cell_type": "markdown",
      "metadata": {
        "id": "JR0x3plGaSni",
        "colab_type": "text"
      },
      "source": [
        "Import Packages"
      ]
    },
    {
      "cell_type": "code",
      "metadata": {
        "id": "rA-LLMuvBQKV",
        "colab_type": "code",
        "colab": {}
      },
      "source": [
        "import pandas as pd\n",
        "import xgboost as xgb\n",
        "import numpy as np\n",
        "\n",
        "from sklearn.model_selection import train_test_split\n",
        "from sklearn.utils import shuffle\n",
        "from google.cloud import bigquery"
      ],
      "execution_count": 0,
      "outputs": []
    },
    {
      "cell_type": "markdown",
      "metadata": {
        "id": "qkidNrsZWotY",
        "colab_type": "text"
      },
      "source": [
        "Add Google Cloud project"
      ]
    },
    {
      "cell_type": "code",
      "metadata": {
        "id": "4VJ2yCiiCMrd",
        "colab_type": "code",
        "colab": {
          "base_uri": "https://localhost:8080/",
          "height": 34
        },
        "outputId": "e5780249-8e32-4813-8e03-aa46c9140c08"
      },
      "source": [
        "!gcloud config set project mlxgboost"
      ],
      "execution_count": 3,
      "outputs": [
        {
          "output_type": "stream",
          "text": [
            "Updated property [core/project].\n"
          ],
          "name": "stdout"
        }
      ]
    },
    {
      "cell_type": "markdown",
      "metadata": {
        "id": "cAaZbtwHW1db",
        "colab_type": "text"
      },
      "source": [
        "Authenticate Account"
      ]
    },
    {
      "cell_type": "code",
      "metadata": {
        "id": "ipKdOx5TCgh1",
        "colab_type": "code",
        "colab": {
          "base_uri": "https://localhost:8080/",
          "height": 207
        },
        "outputId": "959fb3f0-4ee6-4a69-a94b-153421782b12"
      },
      "source": [
        "!gcloud auth login"
      ],
      "execution_count": 4,
      "outputs": [
        {
          "output_type": "stream",
          "text": [
            "Go to the following link in your browser:\n",
            "\n",
            "    https://accounts.google.com/o/oauth2/auth?code_challenge=6D2h88X8S80EQ_RNKFjtZ_E4QiXUAWyCtkPXkU5crAs&prompt=select_account&code_challenge_method=S256&access_type=offline&redirect_uri=urn%3Aietf%3Awg%3Aoauth%3A2.0%3Aoob&response_type=code&client_id=32555940559.apps.googleusercontent.com&scope=openid+https%3A%2F%2Fwww.googleapis.com%2Fauth%2Fuserinfo.email+https%3A%2F%2Fwww.googleapis.com%2Fauth%2Fcloud-platform+https%3A%2F%2Fwww.googleapis.com%2Fauth%2Fappengine.admin+https%3A%2F%2Fwww.googleapis.com%2Fauth%2Fcompute+https%3A%2F%2Fwww.googleapis.com%2Fauth%2Faccounts.reauth\n",
            "\n",
            "\n",
            "Enter verification code: 4/xQG36HLfLk8rsujliFNxtSr8OyNSdTaY3Tjuj3yGDeA8zNmDlxeUi6o\n",
            "\n",
            "You are now logged in as [me@trevorbehnke.com].\n",
            "Your current project is [mlxgboost].  You can change this setting by running:\n",
            "  $ gcloud config set project PROJECT_ID\n"
          ],
          "name": "stdout"
        }
      ]
    },
    {
      "cell_type": "markdown",
      "metadata": {
        "id": "riDI6ROZXLFM",
        "colab_type": "text"
      },
      "source": [
        "Create Service Account"
      ]
    },
    {
      "cell_type": "code",
      "metadata": {
        "id": "fcxyfltzCdHZ",
        "colab_type": "code",
        "colab": {}
      },
      "source": [
        "!gcloud iam service-accounts create mlxgboost"
      ],
      "execution_count": 0,
      "outputs": []
    },
    {
      "cell_type": "markdown",
      "metadata": {
        "id": "FiVql4avXOhi",
        "colab_type": "text"
      },
      "source": [
        "Add IAM Policy to Service Account"
      ]
    },
    {
      "cell_type": "code",
      "metadata": {
        "id": "SpD6lp5DC2q-",
        "colab_type": "code",
        "colab": {
          "base_uri": "https://localhost:8080/",
          "height": 323
        },
        "outputId": "f7e271af-dc68-4a40-ab74-352d9c482410"
      },
      "source": [
        "!gcloud projects add-iam-policy-binding mlxgboost --member \"serviceAccount:mlxgboost@mlxgboost.iam.gserviceaccount.com\" --role \"roles/owner\""
      ],
      "execution_count": 6,
      "outputs": [
        {
          "output_type": "stream",
          "text": [
            "Updated IAM policy for project [mlxgboost].\n",
            "bindings:\n",
            "- members:\n",
            "  - serviceAccount:service-454613473835@compute-system.iam.gserviceaccount.com\n",
            "  role: roles/compute.serviceAgent\n",
            "- members:\n",
            "  - serviceAccount:454613473835-compute@developer.gserviceaccount.com\n",
            "  - serviceAccount:454613473835@cloudservices.gserviceaccount.com\n",
            "  role: roles/editor\n",
            "- members:\n",
            "  - serviceAccount:service-454613473835@cloud-ml.google.com.iam.gserviceaccount.com\n",
            "  role: roles/ml.serviceAgent\n",
            "- members:\n",
            "  - serviceAccount:mlxgboost@mlxgboost.iam.gserviceaccount.com\n",
            "  - user:me@trevorbehnke.com\n",
            "  role: roles/owner\n",
            "etag: BwWgW3HegoE=\n",
            "version: 1\n"
          ],
          "name": "stdout"
        }
      ]
    },
    {
      "cell_type": "markdown",
      "metadata": {
        "id": "jwLerbEPXoQO",
        "colab_type": "text"
      },
      "source": [
        "Create Service Account Credentials"
      ]
    },
    {
      "cell_type": "code",
      "metadata": {
        "id": "8MF-wOhpDD3W",
        "colab_type": "code",
        "colab": {
          "base_uri": "https://localhost:8080/",
          "height": 54
        },
        "outputId": "c445bbc6-c210-437a-8aad-69d64e3b2977"
      },
      "source": [
        "!gcloud iam service-accounts keys create mlxgboost.json --iam-account mlxgboost@mlxgboost.iam.gserviceaccount.com"
      ],
      "execution_count": 7,
      "outputs": [
        {
          "output_type": "stream",
          "text": [
            "created key [b9588a7ef583357bda228ccec57c1a113aae8488] of type [json] as [mlxgboost.json] for [mlxgboost@mlxgboost.iam.gserviceaccount.com]\n"
          ],
          "name": "stdout"
        }
      ]
    },
    {
      "cell_type": "markdown",
      "metadata": {
        "id": "bUgF7oARXwRC",
        "colab_type": "text"
      },
      "source": [
        "Create Environment Variables for Service Account Credentials"
      ]
    },
    {
      "cell_type": "code",
      "metadata": {
        "id": "SYx4_v0DHEG1",
        "colab_type": "code",
        "colab": {}
      },
      "source": [
        "import os\n",
        "os.environ[\"GOOGLE_APPLICATION_CREDENTIALS\"] = \"/content/mlxgboost.json\""
      ],
      "execution_count": 0,
      "outputs": []
    },
    {
      "cell_type": "markdown",
      "metadata": {
        "id": "BfgXw7CGYHEM",
        "colab_type": "text"
      },
      "source": [
        "Save Service Account Credentials to Local Folder"
      ]
    },
    {
      "cell_type": "code",
      "metadata": {
        "id": "PmKB3J_bGuB7",
        "colab_type": "code",
        "colab": {}
      },
      "source": [
        "!export GOOGLE_APPLICATION_CREDENTIALS=\"/content/mlxgboost.json\""
      ],
      "execution_count": 0,
      "outputs": []
    },
    {
      "cell_type": "markdown",
      "metadata": {
        "id": "a_2FBt-4YJOX",
        "colab_type": "text"
      },
      "source": [
        "Ingest Data using BigQuery"
      ]
    },
    {
      "cell_type": "code",
      "metadata": {
        "id": "k_7gImLkBvy-",
        "colab_type": "code",
        "outputId": "0c2a7d9d-10c9-43d7-84e0-ed3df49a16bb",
        "colab": {
          "base_uri": "https://localhost:8080/",
          "height": 204
        }
      },
      "source": [
        "query=\"\"\"\n",
        "SELECT\n",
        "  weight_pounds,\n",
        "  is_male,\n",
        "  mother_age,\n",
        "  plurality,\n",
        "  gestation_weeks\n",
        "FROM\n",
        "  publicdata.samples.natality\n",
        "WHERE year > 2000\n",
        "LIMIT 10000\n",
        "\"\"\"\n",
        "df = bigquery.Client().query(query).to_dataframe()\n",
        "df.head()"
      ],
      "execution_count": 10,
      "outputs": [
        {
          "output_type": "execute_result",
          "data": {
            "text/html": [
              "<div>\n",
              "<style scoped>\n",
              "    .dataframe tbody tr th:only-of-type {\n",
              "        vertical-align: middle;\n",
              "    }\n",
              "\n",
              "    .dataframe tbody tr th {\n",
              "        vertical-align: top;\n",
              "    }\n",
              "\n",
              "    .dataframe thead th {\n",
              "        text-align: right;\n",
              "    }\n",
              "</style>\n",
              "<table border=\"1\" class=\"dataframe\">\n",
              "  <thead>\n",
              "    <tr style=\"text-align: right;\">\n",
              "      <th></th>\n",
              "      <th>weight_pounds</th>\n",
              "      <th>is_male</th>\n",
              "      <th>mother_age</th>\n",
              "      <th>plurality</th>\n",
              "      <th>gestation_weeks</th>\n",
              "    </tr>\n",
              "  </thead>\n",
              "  <tbody>\n",
              "    <tr>\n",
              "      <th>0</th>\n",
              "      <td>6.686620</td>\n",
              "      <td>True</td>\n",
              "      <td>18</td>\n",
              "      <td>1</td>\n",
              "      <td>43.0</td>\n",
              "    </tr>\n",
              "    <tr>\n",
              "      <th>1</th>\n",
              "      <td>9.360828</td>\n",
              "      <td>True</td>\n",
              "      <td>32</td>\n",
              "      <td>1</td>\n",
              "      <td>41.0</td>\n",
              "    </tr>\n",
              "    <tr>\n",
              "      <th>2</th>\n",
              "      <td>8.437091</td>\n",
              "      <td>False</td>\n",
              "      <td>30</td>\n",
              "      <td>1</td>\n",
              "      <td>39.0</td>\n",
              "    </tr>\n",
              "    <tr>\n",
              "      <th>3</th>\n",
              "      <td>6.124442</td>\n",
              "      <td>False</td>\n",
              "      <td>24</td>\n",
              "      <td>1</td>\n",
              "      <td>40.0</td>\n",
              "    </tr>\n",
              "    <tr>\n",
              "      <th>4</th>\n",
              "      <td>7.125340</td>\n",
              "      <td>False</td>\n",
              "      <td>26</td>\n",
              "      <td>1</td>\n",
              "      <td>41.0</td>\n",
              "    </tr>\n",
              "  </tbody>\n",
              "</table>\n",
              "</div>"
            ],
            "text/plain": [
              "   weight_pounds  is_male  mother_age  plurality  gestation_weeks\n",
              "0       6.686620     True          18          1             43.0\n",
              "1       9.360828     True          32          1             41.0\n",
              "2       8.437091    False          30          1             39.0\n",
              "3       6.124442    False          24          1             40.0\n",
              "4       7.125340    False          26          1             41.0"
            ]
          },
          "metadata": {
            "tags": []
          },
          "execution_count": 10
        }
      ]
    },
    {
      "cell_type": "markdown",
      "metadata": {
        "id": "GbVzAYUIYWKB",
        "colab_type": "text"
      },
      "source": [
        "Brief Statistical Description of Data"
      ]
    },
    {
      "cell_type": "code",
      "metadata": {
        "id": "Cn7jfQ4EHoL3",
        "colab_type": "code",
        "outputId": "55f72033-8eb7-4217-a403-870e50bf0948",
        "colab": {
          "base_uri": "https://localhost:8080/",
          "height": 297
        }
      },
      "source": [
        "df.describe()"
      ],
      "execution_count": 11,
      "outputs": [
        {
          "output_type": "execute_result",
          "data": {
            "text/html": [
              "<div>\n",
              "<style scoped>\n",
              "    .dataframe tbody tr th:only-of-type {\n",
              "        vertical-align: middle;\n",
              "    }\n",
              "\n",
              "    .dataframe tbody tr th {\n",
              "        vertical-align: top;\n",
              "    }\n",
              "\n",
              "    .dataframe thead th {\n",
              "        text-align: right;\n",
              "    }\n",
              "</style>\n",
              "<table border=\"1\" class=\"dataframe\">\n",
              "  <thead>\n",
              "    <tr style=\"text-align: right;\">\n",
              "      <th></th>\n",
              "      <th>weight_pounds</th>\n",
              "      <th>mother_age</th>\n",
              "      <th>plurality</th>\n",
              "      <th>gestation_weeks</th>\n",
              "    </tr>\n",
              "  </thead>\n",
              "  <tbody>\n",
              "    <tr>\n",
              "      <th>count</th>\n",
              "      <td>9989.000000</td>\n",
              "      <td>10000.000000</td>\n",
              "      <td>10000.000000</td>\n",
              "      <td>9890.000000</td>\n",
              "    </tr>\n",
              "    <tr>\n",
              "      <th>mean</th>\n",
              "      <td>7.297602</td>\n",
              "      <td>27.298900</td>\n",
              "      <td>1.034400</td>\n",
              "      <td>38.699798</td>\n",
              "    </tr>\n",
              "    <tr>\n",
              "      <th>std</th>\n",
              "      <td>1.291685</td>\n",
              "      <td>6.165838</td>\n",
              "      <td>0.192926</td>\n",
              "      <td>2.539957</td>\n",
              "    </tr>\n",
              "    <tr>\n",
              "      <th>min</th>\n",
              "      <td>0.612885</td>\n",
              "      <td>12.000000</td>\n",
              "      <td>1.000000</td>\n",
              "      <td>17.000000</td>\n",
              "    </tr>\n",
              "    <tr>\n",
              "      <th>25%</th>\n",
              "      <td>6.624891</td>\n",
              "      <td>22.000000</td>\n",
              "      <td>1.000000</td>\n",
              "      <td>38.000000</td>\n",
              "    </tr>\n",
              "    <tr>\n",
              "      <th>50%</th>\n",
              "      <td>7.374463</td>\n",
              "      <td>27.000000</td>\n",
              "      <td>1.000000</td>\n",
              "      <td>39.000000</td>\n",
              "    </tr>\n",
              "    <tr>\n",
              "      <th>75%</th>\n",
              "      <td>8.124034</td>\n",
              "      <td>32.000000</td>\n",
              "      <td>1.000000</td>\n",
              "      <td>40.000000</td>\n",
              "    </tr>\n",
              "    <tr>\n",
              "      <th>max</th>\n",
              "      <td>12.257702</td>\n",
              "      <td>50.000000</td>\n",
              "      <td>3.000000</td>\n",
              "      <td>47.000000</td>\n",
              "    </tr>\n",
              "  </tbody>\n",
              "</table>\n",
              "</div>"
            ],
            "text/plain": [
              "       weight_pounds    mother_age     plurality  gestation_weeks\n",
              "count    9989.000000  10000.000000  10000.000000      9890.000000\n",
              "mean        7.297602     27.298900      1.034400        38.699798\n",
              "std         1.291685      6.165838      0.192926         2.539957\n",
              "min         0.612885     12.000000      1.000000        17.000000\n",
              "25%         6.624891     22.000000      1.000000        38.000000\n",
              "50%         7.374463     27.000000      1.000000        39.000000\n",
              "75%         8.124034     32.000000      1.000000        40.000000\n",
              "max        12.257702     50.000000      3.000000        47.000000"
            ]
          },
          "metadata": {
            "tags": []
          },
          "execution_count": 11
        }
      ]
    },
    {
      "cell_type": "markdown",
      "metadata": {
        "id": "SFzAxtl4ZTKi",
        "colab_type": "text"
      },
      "source": [
        "Example of Value Counts for Non-Numerical Data"
      ]
    },
    {
      "cell_type": "code",
      "metadata": {
        "id": "3tFOOHX5HvFd",
        "colab_type": "code",
        "outputId": "3d715faf-afb2-4648-c9a3-0736809b273d",
        "colab": {
          "base_uri": "https://localhost:8080/",
          "height": 68
        }
      },
      "source": [
        "df['is_male'].value_counts()"
      ],
      "execution_count": 12,
      "outputs": [
        {
          "output_type": "execute_result",
          "data": {
            "text/plain": [
              "True     5150\n",
              "False    4850\n",
              "Name: is_male, dtype: int64"
            ]
          },
          "metadata": {
            "tags": []
          },
          "execution_count": 12
        }
      ]
    },
    {
      "cell_type": "markdown",
      "metadata": {
        "id": "o-7yxF3DZar0",
        "colab_type": "text"
      },
      "source": [
        "Drop Rows With Null Values and Shuffle the Data"
      ]
    },
    {
      "cell_type": "code",
      "metadata": {
        "id": "Q_KRNldGH6yR",
        "colab_type": "code",
        "colab": {}
      },
      "source": [
        "df = df.dropna()\n",
        "df = shuffle(df, random_state=2)"
      ],
      "execution_count": 0,
      "outputs": []
    },
    {
      "cell_type": "markdown",
      "metadata": {
        "id": "CTulIdpeZ1nT",
        "colab_type": "text"
      },
      "source": [
        "Extract the Label Column Into a Separate Variable and Create a DataFrame With Only Our Features"
      ]
    },
    {
      "cell_type": "code",
      "metadata": {
        "id": "eW57K6MyH8kg",
        "colab_type": "code",
        "colab": {}
      },
      "source": [
        "labels = df['weight_pounds']\n",
        "data = df.drop(columns=['weight_pounds'])"
      ],
      "execution_count": 0,
      "outputs": []
    },
    {
      "cell_type": "markdown",
      "metadata": {
        "id": "-xUWgOqWaKgO",
        "colab_type": "text"
      },
      "source": [
        "Preview the New Dataset"
      ]
    },
    {
      "cell_type": "code",
      "metadata": {
        "id": "g5BKtZTgIDMG",
        "colab_type": "code",
        "outputId": "bdfbfda7-228b-48a2-ad8b-a6209e4f0356",
        "colab": {
          "base_uri": "https://localhost:8080/",
          "height": 204
        }
      },
      "source": [
        "data.head()"
      ],
      "execution_count": 15,
      "outputs": [
        {
          "output_type": "execute_result",
          "data": {
            "text/html": [
              "<div>\n",
              "<style scoped>\n",
              "    .dataframe tbody tr th:only-of-type {\n",
              "        vertical-align: middle;\n",
              "    }\n",
              "\n",
              "    .dataframe tbody tr th {\n",
              "        vertical-align: top;\n",
              "    }\n",
              "\n",
              "    .dataframe thead th {\n",
              "        text-align: right;\n",
              "    }\n",
              "</style>\n",
              "<table border=\"1\" class=\"dataframe\">\n",
              "  <thead>\n",
              "    <tr style=\"text-align: right;\">\n",
              "      <th></th>\n",
              "      <th>is_male</th>\n",
              "      <th>mother_age</th>\n",
              "      <th>plurality</th>\n",
              "      <th>gestation_weeks</th>\n",
              "    </tr>\n",
              "  </thead>\n",
              "  <tbody>\n",
              "    <tr>\n",
              "      <th>39</th>\n",
              "      <td>True</td>\n",
              "      <td>32</td>\n",
              "      <td>1</td>\n",
              "      <td>41.0</td>\n",
              "    </tr>\n",
              "    <tr>\n",
              "      <th>6132</th>\n",
              "      <td>False</td>\n",
              "      <td>28</td>\n",
              "      <td>1</td>\n",
              "      <td>30.0</td>\n",
              "    </tr>\n",
              "    <tr>\n",
              "      <th>5986</th>\n",
              "      <td>False</td>\n",
              "      <td>44</td>\n",
              "      <td>1</td>\n",
              "      <td>38.0</td>\n",
              "    </tr>\n",
              "    <tr>\n",
              "      <th>7682</th>\n",
              "      <td>False</td>\n",
              "      <td>34</td>\n",
              "      <td>1</td>\n",
              "      <td>38.0</td>\n",
              "    </tr>\n",
              "    <tr>\n",
              "      <th>4910</th>\n",
              "      <td>True</td>\n",
              "      <td>31</td>\n",
              "      <td>1</td>\n",
              "      <td>40.0</td>\n",
              "    </tr>\n",
              "  </tbody>\n",
              "</table>\n",
              "</div>"
            ],
            "text/plain": [
              "      is_male  mother_age  plurality  gestation_weeks\n",
              "39       True          32          1             41.0\n",
              "6132    False          28          1             30.0\n",
              "5986    False          44          1             38.0\n",
              "7682    False          34          1             38.0\n",
              "4910     True          31          1             40.0"
            ]
          },
          "metadata": {
            "tags": []
          },
          "execution_count": 15
        }
      ]
    },
    {
      "cell_type": "markdown",
      "metadata": {
        "id": "aYD-BMc4aNDO",
        "colab_type": "text"
      },
      "source": [
        "Convert Categorical Features into Integers"
      ]
    },
    {
      "cell_type": "code",
      "metadata": {
        "id": "5Kergb4VIQSL",
        "colab_type": "code",
        "colab": {}
      },
      "source": [
        "data['is_male'] = data['is_male'].astype(int)"
      ],
      "execution_count": 0,
      "outputs": []
    },
    {
      "cell_type": "markdown",
      "metadata": {
        "id": "4iKxoX7ca4jX",
        "colab_type": "text"
      },
      "source": [
        "Split Data Into Train and Test Sets Using Scikit Learn *train_test_split*"
      ]
    },
    {
      "cell_type": "code",
      "metadata": {
        "id": "EfgHa8bOIgaM",
        "colab_type": "code",
        "colab": {}
      },
      "source": [
        "x,y = data,labels\n",
        "x_train,x_test,y_train,y_test = train_test_split(x,y)"
      ],
      "execution_count": 0,
      "outputs": []
    },
    {
      "cell_type": "markdown",
      "metadata": {
        "id": "tHVYaLdzb1rm",
        "colab_type": "text"
      },
      "source": [
        "Create the XGBoost Model"
      ]
    },
    {
      "cell_type": "code",
      "metadata": {
        "id": "_oznpuQ2Iiz8",
        "colab_type": "code",
        "colab": {}
      },
      "source": [
        "model = xgb.XGBRegressor(\n",
        "    objective='reg:linear'\n",
        ")"
      ],
      "execution_count": 0,
      "outputs": []
    },
    {
      "cell_type": "markdown",
      "metadata": {
        "id": "0W-7gEWecDHB",
        "colab_type": "text"
      },
      "source": [
        "Train the Model"
      ]
    },
    {
      "cell_type": "code",
      "metadata": {
        "id": "XRgLj9MqIquN",
        "colab_type": "code",
        "outputId": "15c1de66-f66e-4741-ba30-7ad8e2f00257",
        "colab": {
          "base_uri": "https://localhost:8080/",
          "height": 207
        }
      },
      "source": [
        "model.fit(x_train, y_train)"
      ],
      "execution_count": 19,
      "outputs": [
        {
          "output_type": "stream",
          "text": [
            "/usr/local/lib/python3.6/dist-packages/xgboost/core.py:587: FutureWarning: Series.base is deprecated and will be removed in a future version\n",
            "  if getattr(data, 'base', None) is not None and \\\n"
          ],
          "name": "stderr"
        },
        {
          "output_type": "stream",
          "text": [
            "[17:45:57] WARNING: /workspace/src/objective/regression_obj.cu:152: reg:linear is now deprecated in favor of reg:squarederror.\n"
          ],
          "name": "stdout"
        },
        {
          "output_type": "execute_result",
          "data": {
            "text/plain": [
              "XGBRegressor(base_score=0.5, booster='gbtree', colsample_bylevel=1,\n",
              "             colsample_bynode=1, colsample_bytree=1, gamma=0,\n",
              "             importance_type='gain', learning_rate=0.1, max_delta_step=0,\n",
              "             max_depth=3, min_child_weight=1, missing=None, n_estimators=100,\n",
              "             n_jobs=1, nthread=None, objective='reg:linear', random_state=0,\n",
              "             reg_alpha=0, reg_lambda=1, scale_pos_weight=1, seed=None,\n",
              "             silent=None, subsample=1, verbosity=1)"
            ]
          },
          "metadata": {
            "tags": []
          },
          "execution_count": 19
        }
      ]
    },
    {
      "cell_type": "markdown",
      "metadata": {
        "id": "O4fHDmTfcG6l",
        "colab_type": "text"
      },
      "source": [
        "Generate Predictions On the Test Data"
      ]
    },
    {
      "cell_type": "code",
      "metadata": {
        "id": "Y7_GNNsFItON",
        "colab_type": "code",
        "colab": {}
      },
      "source": [
        "y_pred = model.predict(x_test)"
      ],
      "execution_count": 0,
      "outputs": []
    },
    {
      "cell_type": "markdown",
      "metadata": {
        "id": "-iXE-ohPcOmO",
        "colab_type": "text"
      },
      "source": [
        "View Model Performance on the Test Set"
      ]
    },
    {
      "cell_type": "code",
      "metadata": {
        "id": "vHxRV5lUIzgU",
        "colab_type": "code",
        "colab": {
          "base_uri": "https://localhost:8080/",
          "height": 272
        },
        "outputId": "88d108e0-7947-446c-cd4e-21ca476a32ce"
      },
      "source": [
        "for i in range(5):\n",
        "    print('Predicted weight: ', y_pred[i])\n",
        "    print('Actual weight: ', y_test.iloc[i])\n",
        "    print()"
      ],
      "execution_count": 23,
      "outputs": [
        {
          "output_type": "stream",
          "text": [
            "Predicted weight:  7.859754\n",
            "Actual weight:  8.2783579381\n",
            "\n",
            "Predicted weight:  7.4478636\n",
            "Actual weight:  8.313631900019999\n",
            "\n",
            "Predicted weight:  7.672204\n",
            "Actual weight:  7.1870697412\n",
            "\n",
            "Predicted weight:  8.020563\n",
            "Actual weight:  8.8625829324\n",
            "\n",
            "Predicted weight:  7.0871387\n",
            "Actual weight:  6.03625673356\n",
            "\n"
          ],
          "name": "stdout"
        }
      ]
    },
    {
      "cell_type": "markdown",
      "metadata": {
        "id": "TavR5w6qcZlE",
        "colab_type": "text"
      },
      "source": [
        "Save Model to Local Folder"
      ]
    },
    {
      "cell_type": "code",
      "metadata": {
        "id": "MuhHjVuuI7T_",
        "colab_type": "code",
        "colab": {}
      },
      "source": [
        "model.save_model('model.bst')"
      ],
      "execution_count": 0,
      "outputs": []
    },
    {
      "cell_type": "markdown",
      "metadata": {
        "id": "k48j4y79ckRb",
        "colab_type": "text"
      },
      "source": [
        "Define Environment Variables for the Google Cloud Storage Bucket and Model"
      ]
    },
    {
      "cell_type": "code",
      "metadata": {
        "id": "DHL8YBciI-KH",
        "colab_type": "code",
        "colab": {}
      },
      "source": [
        "GCP_PROJECT = 'mlxgboost'\n",
        "MODEL_BUCKET = 'gs://mlxgboost'\n",
        "VERSION_NAME = 'v1'\n",
        "MODEL_NAME = 'baby_weight'"
      ],
      "execution_count": 0,
      "outputs": []
    },
    {
      "cell_type": "markdown",
      "metadata": {
        "id": "_5Ov6YjQc5UJ",
        "colab_type": "text"
      },
      "source": [
        "Create a Google Cloud Storage Bucket for the Model"
      ]
    },
    {
      "cell_type": "code",
      "metadata": {
        "id": "uZQA5pzzJbv9",
        "colab_type": "code",
        "outputId": "d6bed88b-98e1-4939-8965-16e57cae6ad1",
        "colab": {
          "base_uri": "https://localhost:8080/",
          "height": 34
        }
      },
      "source": [
        "!gsutil mb $MODEL_BUCKET"
      ],
      "execution_count": 26,
      "outputs": [
        {
          "output_type": "stream",
          "text": [
            "Creating gs://mlxgboost/...\n"
          ],
          "name": "stdout"
        }
      ]
    },
    {
      "cell_type": "markdown",
      "metadata": {
        "id": "W8lPFkyxc8Ep",
        "colab_type": "text"
      },
      "source": [
        "Copy the Model to the Google Cloud Storage Bucket"
      ]
    },
    {
      "cell_type": "code",
      "metadata": {
        "id": "8-_1TWBfJuee",
        "colab_type": "code",
        "outputId": "e21e19f3-9950-4afc-83d0-ba8d99c77213",
        "colab": {
          "base_uri": "https://localhost:8080/",
          "height": 68
        }
      },
      "source": [
        "!gsutil cp ./model.bst $MODEL_BUCKET"
      ],
      "execution_count": 27,
      "outputs": [
        {
          "output_type": "stream",
          "text": [
            "Copying file://./model.bst [Content-Type=application/octet-stream]...\n",
            "/ [1 files][ 63.5 KiB/ 63.5 KiB]                                                \n",
            "Operation completed over 1 objects/63.5 KiB.                                     \n"
          ],
          "name": "stdout"
        }
      ]
    },
    {
      "cell_type": "markdown",
      "metadata": {
        "id": "oL4eyaUkdDBF",
        "colab_type": "text"
      },
      "source": [
        "Create the Model on Google Cloud AI Platform"
      ]
    },
    {
      "cell_type": "code",
      "metadata": {
        "id": "flIGV1yfMPqb",
        "colab_type": "code",
        "outputId": "b3fafa02-0eda-4e8d-b4aa-c6d79ed376fe",
        "colab": {
          "base_uri": "https://localhost:8080/",
          "height": 51
        }
      },
      "source": [
        "!gcloud ai-platform models create $MODEL_NAME"
      ],
      "execution_count": 28,
      "outputs": [
        {
          "output_type": "stream",
          "text": [
            "\u001b[1;33mWARNING:\u001b[0m `--regions` flag will soon be required. Please explicitly specify a region. Using [us-central1] by default.\n",
            "Created ml engine model [projects/mlxgboost/models/baby_weight].\n"
          ],
          "name": "stdout"
        }
      ]
    },
    {
      "cell_type": "markdown",
      "metadata": {
        "id": "iC2C4yRndMH6",
        "colab_type": "text"
      },
      "source": [
        "Deploy the Model"
      ]
    },
    {
      "cell_type": "code",
      "metadata": {
        "id": "p2HvLKcBMU_y",
        "colab_type": "code",
        "colab": {}
      },
      "source": [
        "!gcloud ai-platform versions create $VERSION_NAME \\\n",
        "--model=$MODEL_NAME \\\n",
        "--framework='XGBOOST' \\\n",
        "--runtime-version=1.15 \\\n",
        "--origin=$MODEL_BUCKET \\\n",
        "--python-version=3.7 \\\n",
        "--project=$GCP_PROJECT"
      ],
      "execution_count": 0,
      "outputs": []
    },
    {
      "cell_type": "markdown",
      "metadata": {
        "id": "jSKzVPfodXqs",
        "colab_type": "text"
      },
      "source": [
        "Test the Deployed Model by Inputing Some Data"
      ]
    },
    {
      "cell_type": "code",
      "metadata": {
        "id": "7jHmMQdVONQ8",
        "colab_type": "code",
        "outputId": "a1301c8f-3ff3-4b39-dd5d-e00a00444f76",
        "colab": {
          "base_uri": "https://localhost:8080/",
          "height": 34
        }
      },
      "source": [
        "%%writefile predictions.json\n",
        "[0.0, 33.0, 1.0, 27.0]\n",
        "[1.0, 26.0, 1.0, 40.0]"
      ],
      "execution_count": 30,
      "outputs": [
        {
          "output_type": "stream",
          "text": [
            "Writing predictions.json\n"
          ],
          "name": "stdout"
        }
      ]
    },
    {
      "cell_type": "markdown",
      "metadata": {
        "id": "YiVWB2lwdbnw",
        "colab_type": "text"
      },
      "source": [
        "Print Out Your Model Predictions!"
      ]
    },
    {
      "cell_type": "code",
      "metadata": {
        "id": "zJyaaVY6OSW5",
        "colab_type": "code",
        "outputId": "cbf6b7f9-3d79-4ff6-f264-0b0a339e873a",
        "colab": {
          "base_uri": "https://localhost:8080/",
          "height": 34
        }
      },
      "source": [
        "prediction = !gcloud ai-platform predict --model=$MODEL_NAME --json-instances=predictions.json --version=$VERSION_NAME\n",
        "print(prediction.s)"
      ],
      "execution_count": 31,
      "outputs": [
        {
          "output_type": "stream",
          "text": [
            "[3.2076520919799805, 7.901758670806885]\n"
          ],
          "name": "stdout"
        }
      ]
    }
  ]
}